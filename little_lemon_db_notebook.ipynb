{
 "cells": [
  {
   "cell_type": "code",
   "execution_count": 16,
   "id": "8baf05c9-19f0-486b-964a-364bcf0e554e",
   "metadata": {},
   "outputs": [
    {
     "name": "stdout",
     "output_type": "stream",
     "text": [
      "Defaulting to user installation because normal site-packages is not writeable\n",
      "Requirement already satisfied: mysql-connector-python in ./.local/lib/python3.10/site-packages (8.3.0)\n"
     ]
    }
   ],
   "source": [
    "!pip install mysql-connector-python"
   ]
  },
  {
   "cell_type": "code",
   "execution_count": 17,
   "id": "b94cb596-0cf9-4136-a1a2-586a804094a7",
   "metadata": {},
   "outputs": [],
   "source": [
    "import mysql.connector as connector\n",
    "from mysql.connector import Error"
   ]
  },
  {
   "cell_type": "code",
   "execution_count": 18,
   "id": "3b0965bd-e9f7-428c-ba1e-846d57adf427",
   "metadata": {},
   "outputs": [],
   "source": [
    "try:\n",
    "    connection=connector.connect(user=\"alejandro\",password=\"Numbers1234!\")\n",
    "except Error as er:\n",
    "    print(er.msg)"
   ]
  },
  {
   "cell_type": "code",
   "execution_count": 19,
   "id": "07082d28-5670-46e3-8c97-8d2cfcd931d1",
   "metadata": {},
   "outputs": [],
   "source": [
    "cursor = connection.cursor()"
   ]
  },
  {
   "cell_type": "code",
   "execution_count": 20,
   "id": "8a37acf2-ec72-41f2-af1e-54c6ca8436dc",
   "metadata": {},
   "outputs": [
    {
     "data": {
      "text/plain": [
       "'little_lemon_db'"
      ]
     },
     "execution_count": 20,
     "metadata": {},
     "output_type": "execute_result"
    }
   ],
   "source": [
    "cursor.execute(\"USE little_lemon_db\")\n",
    "connection.database"
   ]
  },
  {
   "cell_type": "code",
   "execution_count": 21,
   "id": "31e5cdfb-1935-4539-94e0-d4ba769861d5",
   "metadata": {},
   "outputs": [
    {
     "name": "stdout",
     "output_type": "stream",
     "text": [
      "('Tables_in_little_lemon_db',)\n",
      "('address',)\n",
      "('bookings',)\n",
      "('country',)\n",
      "('course',)\n",
      "('cuisine',)\n",
      "('item',)\n",
      "('item_type',)\n",
      "('order_item',)\n",
      "('orders',)\n",
      "('person',)\n",
      "('staff',)\n"
     ]
    }
   ],
   "source": [
    "show_tables_query = \"SHOW TABLES;\" \n",
    "\n",
    "cursor.execute(show_tables_query)\n",
    "\n",
    "results=cursor.fetchall()\n",
    "\n",
    "columns=cursor.column_names\n",
    "\n",
    "print(columns)\n",
    "for result in results:\n",
    "    print(result)"
   ]
  },
  {
   "cell_type": "code",
   "execution_count": 22,
   "id": "618bb840-d983-48ff-ae0a-fcee3cc4973f",
   "metadata": {},
   "outputs": [],
   "source": [
    "join_query = \"\"\"\n",
    "SELECT DISTINCT CONCAT(first_name, ' ', last_name) as customer_name, email\n",
    "FROM person\n",
    "INNER JOIN orders ON person.id = orders.customer_id\n",
    "WHERE orders.total > 60;\n",
    "\"\"\""
   ]
  },
  {
   "cell_type": "code",
   "execution_count": 23,
   "id": "ea693c4e-6266-4c2e-8e17-c84100a6baa4",
   "metadata": {},
   "outputs": [],
   "source": [
    "cursor.execute(join_query)"
   ]
  },
  {
   "cell_type": "code",
   "execution_count": 24,
   "id": "16b4bad0-b44d-48ad-996d-4b90f47cb3d3",
   "metadata": {},
   "outputs": [],
   "source": [
    "results = cursor.fetchall()"
   ]
  },
  {
   "cell_type": "code",
   "execution_count": 25,
   "id": "42639477-37d0-4ceb-a9c8-ed420b79d806",
   "metadata": {},
   "outputs": [],
   "source": [
    "columns=cursor.column_names"
   ]
  },
  {
   "cell_type": "code",
   "execution_count": 26,
   "id": "ab0ef325-62be-4949-9cd3-a69cdfaeeca3",
   "metadata": {},
   "outputs": [
    {
     "name": "stdout",
     "output_type": "stream",
     "text": [
      "('customer_name', 'email')\n",
      "('John Doe', 'johndoe@mail.com')\n",
      "('Jane Doe', 'janedoe@mail.com')\n"
     ]
    }
   ],
   "source": [
    "print(columns)\n",
    "for result in results:\n",
    "    print(result)"
   ]
  },
  {
   "cell_type": "code",
   "execution_count": null,
   "id": "e69f5ae8-fc1d-4dff-8c09-34bee2abd7ba",
   "metadata": {},
   "outputs": [],
   "source": []
  }
 ],
 "metadata": {
  "kernelspec": {
   "display_name": "Python 3 (ipykernel)",
   "language": "python",
   "name": "python3"
  },
  "language_info": {
   "codemirror_mode": {
    "name": "ipython",
    "version": 3
   },
   "file_extension": ".py",
   "mimetype": "text/x-python",
   "name": "python",
   "nbconvert_exporter": "python",
   "pygments_lexer": "ipython3",
   "version": "3.10.12"
  }
 },
 "nbformat": 4,
 "nbformat_minor": 5
}
